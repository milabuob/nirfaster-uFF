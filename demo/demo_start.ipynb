{
 "cells": [
  {
   "cell_type": "code",
   "execution_count": 2,
   "id": "e289cf99",
   "metadata": {},
   "outputs": [],
   "source": [
    "import sys\n",
    "sys.path.insert(1, '../')\n",
    "import nirfasteruff as ff\n",
    "import numpy as np\n",
    "import matplotlib.pyplot as plt\n"
   ]
  },
  {
   "cell_type": "code",
   "execution_count": 2,
   "id": "a63604a4",
   "metadata": {},
   "outputs": [],
   "source": [
    "# Let's load a simple mesh\n",
    "# There are two ways to load a mesh: from .mat file and from NIRFAST ASCII format (.node, .elem, ...)\n",
    "# We start with a 2D mesh saved in .mat format\n",
    "mesh = ff.base.stndmesh()\n",
    "mesh.from_mat('./circle_stnd')"
   ]
  },
  {
   "cell_type": "code",
   "execution_count": 3,
   "id": "6c67a71f",
   "metadata": {},
   "outputs": [
    {
     "name": "stdout",
     "output_type": "stream",
     "text": [
      "dict_keys(['name', 'nodes', 'bndvtx', 'type', 'mua', 'kappa', 'ri', 'mus', 'elements', 'dimension', 'region', 'source', 'meas', 'link', 'c', 'ksi', 'element_area', 'support', 'vol'])\n",
      "dict_keys(['fixed', 'num', 'coord', 'int_func'])\n",
      "dict_keys(['xgrid', 'ygrid', 'zgrid', 'mesh2grid', 'gridinmesh', 'res', 'grid2mesh', 'meshingrid'])\n",
      "All attibutes of vol are empty. E.g. we can print \"xgrid\":\n",
      "[]\n"
     ]
    }
   ],
   "source": [
    "# Let's look at the fields of mesh: they are exactly the same as the original Matlab version\n",
    "# Including the one-indexing. Only supports point sources: field fwhm is discarded\n",
    "# 'vol' is empty now. It's here only as a place holder\n",
    "print(mesh.__dict__.keys())\n",
    "print(mesh.source.__dict__.keys())\n",
    "print(mesh.vol.__dict__.keys())\n",
    "print('All attibutes of vol are empty. E.g. we can print \"xgrid\":')\n",
    "print(mesh.vol.xgrid)"
   ]
  },
  {
   "cell_type": "code",
   "execution_count": 4,
   "id": "8c4c9645",
   "metadata": {},
   "outputs": [
    {
     "name": "stdout",
     "output_type": "stream",
     "text": [
      "Calculating the MASS matrix\n",
      "Solving the system\n",
      "dict_keys(['phi', 'complex', 'link', 'amplitude', 'phase', 'vol'])\n",
      "dict_keys(['isConverged', 'isConvergedToAbsoluteTolerance', 'iteration', 'residual'])\n"
     ]
    }
   ],
   "source": [
    "# Now let's generate the CW data\n",
    "data, info = mesh.femdata(0) # In parantheses is the modulation frequency, in Hz\n",
    "# We can also look at the fields of data and info (convergence information). They are the same as the Matlab version\n",
    "print(data.__dict__.keys())\n",
    "print(info.__dict__.keys())"
   ]
  },
  {
   "cell_type": "code",
   "execution_count": 5,
   "id": "d81ed20b",
   "metadata": {},
   "outputs": [
    {
     "name": "stdout",
     "output_type": "stream",
     "text": [
      "Calculating the MASS matrix\n",
      "Solving the system\n",
      "Calculating the MASS matrix\n",
      "Solving the system\n"
     ]
    }
   ],
   "source": [
    "# If not care about convergence info, this can also be\n",
    "data, _ = mesh.femdata(0)\n",
    "# Equivalently, you can also use,\n",
    "data, info = ff.forward.femdata_stnd_CW(mesh)"
   ]
  },
  {
   "cell_type": "code",
   "execution_count": 6,
   "id": "e32b6918",
   "metadata": {},
   "outputs": [
    {
     "name": "stdout",
     "output_type": "stream",
     "text": [
      "Calculating the MASS matrix\n",
      "Solving the system\n"
     ]
    }
   ],
   "source": [
    "# Now we've used only the default parameters. We can choose the solver by setting solver='GPU' or solver='CPU'\n",
    "# The solver is automatically chosen, but if we use the GPU option on a non-CUDA system, it will give a warning\n",
    "# And roll back to the CPU solver\n",
    "data, info = mesh.femdata(0, solver='GPU')"
   ]
  },
  {
   "cell_type": "code",
   "execution_count": 7,
   "id": "08a3bb52",
   "metadata": {},
   "outputs": [
    {
     "name": "stdout",
     "output_type": "stream",
     "text": [
      "Calculating the MASS matrix\n",
      "Solving the system\n",
      "[[ 2.26248383e-07+7.77623041e-07j  3.78267415e-06+5.77704984e-06j\n",
      "   7.66294430e-05+5.95447622e-05j ... -5.05834044e-09+1.60228440e-08j\n",
      "  -6.71057420e-09+3.81155243e-08j  3.04351890e-09+1.38440775e-07j]\n",
      " [ 3.09785122e-07+9.53991727e-07j  5.15637617e-06+7.31441640e-06j\n",
      "   1.08266320e-04+7.79327916e-05j ... -5.22073130e-09+1.72205505e-08j\n",
      "  -6.74048163e-09+4.31570301e-08j  7.82954269e-09+1.63686034e-07j]\n",
      " [ 4.27943202e-07+1.18317633e-06j  7.16342946e-06+9.40085790e-06j\n",
      "   1.57643423e-04+1.04160300e-04j ... -5.37284038e-09+1.84894900e-08j\n",
      "  -6.64323887e-09+4.90253817e-08j  1.46872804e-08+1.94911612e-07j]\n",
      " ...\n",
      " [ 5.77076800e-08+3.49419775e-07j -5.11020081e-09+7.67798405e-08j\n",
      "  -6.01144551e-09+2.45986990e-08j ...  5.31184830e-04+2.63890334e-04j\n",
      "   2.02750970e-05+2.10667678e-05j  1.15586510e-06+2.38564377e-06j]\n",
      " [ 8.51940231e-08+4.31830084e-07j -3.78455025e-09+9.09377173e-08j\n",
      "  -6.26692353e-09+2.76689225e-08j ...  8.19352927e-04+3.65729373e-04j\n",
      "   2.91188120e-05+2.79770426e-05j  1.62082193e-06+3.06052428e-06j]\n",
      " [ 1.18459333e-07+5.22513529e-07j -2.04122545e-09+1.05723960e-07j\n",
      "  -6.46608242e-09+3.06603702e-08j ...  1.23852668e-03+4.97071873e-04j\n",
      "   4.06242501e-05+3.63174823e-05j  2.19632930e-06+3.83839081e-06j]]\n",
      "[ 19.53002147  39.48342445  58.39484484  75.35623653  89.76485317\n",
      " 100.92836305 107.90666441 110.35992854 108.05716458 101.05542522\n",
      "  90.05394759  75.6467652   58.57158032  39.86120795  19.90238205\n",
      "  19.72038174  39.78784897  58.54205513  75.44930731  89.89547843\n",
      " 100.90802127 107.94788592 110.34026736 107.8807885  100.95478277\n",
      "  89.84301808  75.25566985  58.3670188   39.63145475  19.52828564\n",
      "  19.72479005  39.72380839  58.50189997  75.49571825  89.86138355\n",
      " 101.0534871  108.04737158 110.36304029 108.06891376 101.04359378\n",
      "  89.76541083  75.37578423  58.43597524  39.49130008  19.53808\n",
      "  19.66627133  39.69763077  58.52784142  75.41056648  89.95396268\n",
      " 101.02173169 107.93319856 110.43019181 108.00633555 100.8214075\n",
      "  89.75673612  75.32518289  58.21556492  39.48635708  19.42829762\n",
      "  19.42825873  39.48633987  58.21572805  75.32521586  89.75672967\n",
      " 100.82133873 108.00621075 110.43009084 107.93323615 101.02180331\n",
      "  89.95396573  75.41043201  58.52785614  39.69763045  19.66626753\n",
      "  19.53808901  39.49147332  58.43599376  75.37576211  89.76534379\n",
      " 101.04350983 108.06890905 110.36320115 108.04761639 101.05364681\n",
      "  89.86135755  75.4957675   58.50190666  39.72381729  19.72479844\n",
      "  19.52841359  39.63144706  58.36700311  75.25569771  89.84314002\n",
      " 100.95498194 107.88090774 110.34014223 107.94765199 100.90778387\n",
      "  89.89542353  75.44926545  58.54204116  39.78785139  19.72036535\n",
      "  19.90216076  39.86097494  58.57139852  75.64665166  90.05390086\n",
      " 101.05548504 108.05730568 110.35996204 107.9065053  100.92827846\n",
      "  89.76488303  75.35639102  58.39506112  39.48363344  19.53019799\n",
      "  19.53007576  39.48350213  58.39500001  75.35636835  89.76488959\n",
      " 100.92840583 107.90681024 110.36018744 108.05729246 101.05541923\n",
      "  90.05395409  75.64681978  58.57164597  39.86119174  19.9021609\n",
      "  19.72035666  39.78787854  58.54205073  75.44921792  89.89537217\n",
      " 100.90783227 107.9477196  110.340071   107.88071276 100.95481819\n",
      "  89.84309595  75.25572123  58.36697087  39.63123182  19.52828567\n",
      "  19.72484711  39.72383943  58.50187076  75.49571156  89.86133413\n",
      " 101.05354468 108.04740231 110.36308442 108.06899898 101.04365524\n",
      "  89.76538364  75.37567912  58.43576095  39.49132124  19.53805261\n",
      "  19.6662895   39.69760183  58.52783345  75.41046964  89.95396263\n",
      " 101.02175785 107.93323419 110.43010204 108.00621224 100.82131672\n",
      "  89.75666664  75.32507314  58.21565078  39.48635641  19.42825526\n",
      "  19.42828083  39.48635274  58.21559641  75.3251396   89.75661068\n",
      " 100.82128324 108.00618202 110.4300478  107.93324129 101.02180266\n",
      "  89.9539114   75.41050805  58.52783672  39.69760199  19.66629248\n",
      "  19.53802734  39.49126435  58.43587534  75.37566094  89.76530027\n",
      " 101.04340792 108.06881765 110.36319317 108.04758265 101.05354899\n",
      "  89.86135427  75.49570422  58.50186678  39.7238312   19.72483176\n",
      "  19.52826882  39.63139729  58.36698288  75.25571264  89.84303609\n",
      " 100.95478121 107.8808404  110.34024739 107.94771263 100.90774932\n",
      "  89.8953342   75.44924028  58.54206852  39.78788397  19.72037769\n",
      "  19.90240707  39.86125937  58.57167803  75.64681788  90.05401957\n",
      " 101.05560698 108.05737293 110.35993565 107.90640321 100.92814578\n",
      "  89.76478106  75.35627169  58.39488253  39.48340308  19.53001751]\n"
     ]
    }
   ],
   "source": [
    "# Of course, we can use the same syntax to get FD data\n",
    "data, info = mesh.femdata(1e8) # 100MHz modulation\n",
    "# Now we can see the field phi is complex, and phase is no longer zero\n",
    "print(data.phi)\n",
    "print(data.phase)"
   ]
  },
  {
   "cell_type": "code",
   "execution_count": 8,
   "id": "4bf2bb06",
   "metadata": {},
   "outputs": [
    {
     "name": "stdout",
     "output_type": "stream",
     "text": [
      "{'max_iter': 1000, 'AbsoluteTolerance': 1e-12, 'RelativeTolerance': 1e-12, 'divergence': 100000000.0, 'GPU': -1}\n"
     ]
    }
   ],
   "source": [
    "# We can also change the convergence criteria. Let's first have a look at the defaults\n",
    "solver_opt = ff.utils.SolverOptions()\n",
    "print(solver_opt.__dict__)"
   ]
  },
  {
   "cell_type": "code",
   "execution_count": 9,
   "id": "29e521f6",
   "metadata": {},
   "outputs": [
    {
     "name": "stdout",
     "output_type": "stream",
     "text": [
      "Calculating the MASS matrix\n",
      "Solving the system\n",
      "[5.745686220888178e-07, 6.001763313049663e-07, 5.974487572975448e-07, 5.672913004458178e-07, 5.554894434452378e-07, 6.144202071883553e-07, 5.962064182420944e-07, 5.84707788724197e-07, 5.778378872585696e-07, 6.01821699347329e-07, 5.950963085218164e-07, 5.605209401854046e-07, 5.546471193605709e-07, 6.163759297223737e-07, 5.970617337469187e-07, 5.852019651642932e-07]\n"
     ]
    }
   ],
   "source": [
    "# Now let's change the RelativeTolerance to 1e-6\n",
    "solver_opt.RelativeTolerance=1e-6\n",
    "# Feed it to the solver\n",
    "data, info = mesh.femdata(0, opt=solver_opt, solver='gpu')\n",
    "# Check the residual to verify\n",
    "print(info.residual)\n",
    "# The solver and convergence arguments are key-value pairs. You can use either, or both (any order), or none"
   ]
  },
  {
   "cell_type": "code",
   "execution_count": 10,
   "id": "394f96c8",
   "metadata": {},
   "outputs": [
    {
     "name": "stdout",
     "output_type": "stream",
     "text": [
      "{'xgrid': array([-45., -44., -43., -42., -41., -40., -39., -38., -37., -36., -35.,\n",
      "       -34., -33., -32., -31., -30., -29., -28., -27., -26., -25., -24.,\n",
      "       -23., -22., -21., -20., -19., -18., -17., -16., -15., -14., -13.,\n",
      "       -12., -11., -10.,  -9.,  -8.,  -7.,  -6.,  -5.,  -4.,  -3.,  -2.,\n",
      "        -1.,   0.,   1.,   2.,   3.,   4.,   5.,   6.,   7.,   8.,   9.,\n",
      "        10.,  11.,  12.,  13.,  14.,  15.,  16.,  17.,  18.,  19.,  20.,\n",
      "        21.,  22.,  23.,  24.,  25.,  26.,  27.,  28.,  29.,  30.,  31.,\n",
      "        32.,  33.,  34.,  35.,  36.,  37.,  38.,  39.,  40.,  41.,  42.,\n",
      "        43.,  44.,  45.]), 'ygrid': array([-45. , -43.5, -42. , -40.5, -39. , -37.5, -36. , -34.5, -33. ,\n",
      "       -31.5, -30. , -28.5, -27. , -25.5, -24. , -22.5, -21. , -19.5,\n",
      "       -18. , -16.5, -15. , -13.5, -12. , -10.5,  -9. ,  -7.5,  -6. ,\n",
      "        -4.5,  -3. ,  -1.5,   0. ,   1.5,   3. ,   4.5,   6. ,   7.5,\n",
      "         9. ,  10.5,  12. ,  13.5,  15. ,  16.5,  18. ,  19.5,  21. ,\n",
      "        22.5,  24. ,  25.5,  27. ,  28.5,  30. ,  31.5,  33. ,  34.5,\n",
      "        36. ,  37.5,  39. ,  40.5,  42. ,  43.5,  45. ]), 'zgrid': [], 'mesh2grid': <5551x1785 sparse matrix of type '<class 'numpy.float64'>'\n",
      "\twith 11619 stored elements in Compressed Sparse Column format>, 'gridinmesh': array([ 208,  209,  210, ..., 5342, 5343, 5344]), 'res': array([1. , 1.5]), 'grid2mesh': <1785x5551 sparse matrix of type '<class 'numpy.float64'>'\n",
      "\twith 5055 stored elements in Compressed Sparse Column format>, 'meshingrid': array([  13,   14,   15, ..., 1771, 1772, 1773])}\n"
     ]
    }
   ],
   "source": [
    "# We can add the information for converting between mesh space and grid space (.vol)\n",
    "# Let's make a grid\n",
    "xgrid = np.arange(-45, 45.5, 1)\n",
    "ygrid = np.arange(-45, 45.5, 1.5)\n",
    "mesh.gen_intmat(xgrid, ygrid)\n",
    "# Now the attributes of vol should be all filled\n",
    "print(mesh.vol.__dict__)"
   ]
  },
  {
   "cell_type": "code",
   "execution_count": 11,
   "id": "5457ea33",
   "metadata": {},
   "outputs": [
    {
     "name": "stdout",
     "output_type": "stream",
     "text": [
      "Calculating the MASS matrix\n",
      "Solving the system\n",
      "(61, 91, 16)\n"
     ]
    },
    {
     "name": "stderr",
     "output_type": "stream",
     "text": [
      "/tmp/ipykernel_8143/2078817615.py:7: RuntimeWarning: divide by zero encountered in log\n",
      "  plt.imshow(np.log(data.phi[:,:,0]),aspect=1.5) # use 1.5 because the stepsize of x and y axes are different\n"
     ]
    },
    {
     "data": {
      "image/png": "[encoded data removed]",
      "text/plain": [
       "<Figure size 640x480 with 1 Axes>"
      ]
     },
     "metadata": {},
     "output_type": "display_data"
    }
   ],
   "source": [
    "# If we now calculate the forward data again, it will be automatically on the grid\n",
    "data, _ = mesh.femdata(0)\n",
    "print(data.phi.shape)\n",
    "# We can also plot the fluence of the first source to verify\n",
    "# Use this hack if plt crashes\n",
    "# os.environ['KMP_DUPLICATE_LIB_OK'] = 'True'\n",
    "plt.imshow(np.log(data.phi[:,:,0]),aspect=1.5) # use 1.5 because the stepsize of x and y axes are different\n",
    "plt.show()"
   ]
  },
  {
   "cell_type": "code",
   "execution_count": 12,
   "id": "5a7579ca",
   "metadata": {},
   "outputs": [
    {
     "name": "stdout",
     "output_type": "stream",
     "text": [
      "True\n"
     ]
    }
   ],
   "source": [
    "# To check if CUDA is available\n",
    "print(ff.utils.isCUDA())"
   ]
  },
  {
   "cell_type": "code",
   "execution_count": 13,
   "id": "9d1db087",
   "metadata": {},
   "outputs": [
    {
     "name": "stdout",
     "output_type": "stream",
     "text": [
      "Sources integration functions loaded\n",
      "Detectors integration functions loaded\n",
      "Calculating the MASS matrix\n",
      "Solving the system\n"
     ]
    }
   ],
   "source": [
    "# Here is how to load a mesh stored in ASCII format\n",
    "mesh = ff.base.stndmesh()\n",
    "mesh.from_file('slab_stnd')\n",
    "\n",
    "# Let's calculate the CW data\n",
    "data,_ = mesh.femdata(0)"
   ]
  },
  {
   "cell_type": "code",
   "execution_count": 14,
   "id": "e0740eec",
   "metadata": {},
   "outputs": [
    {
     "name": "stdout",
     "output_type": "stream",
     "text": [
      "(65959, 8)\n"
     ]
    }
   ],
   "source": [
    "# We didn't specify a grid yet, so the data is in mesh space still. Look at the shape of phi:\n",
    "print(data.phi.shape)"
   ]
  },
  {
   "cell_type": "code",
   "execution_count": 15,
   "id": "1da5f061",
   "metadata": {},
   "outputs": [
    {
     "name": "stdout",
     "output_type": "stream",
     "text": [
      "(61, 61, 26, 8)\n"
     ]
    }
   ],
   "source": [
    "# Let's change that. First define a grid\n",
    "xgrid = np.arange(0., 121., 2.)\n",
    "ygrid = np.arange(0., 121., 2.)\n",
    "zgrid = np.arange(0., 51., 2.)\n",
    "mesh.gen_intmat(xgrid, ygrid, zgrid)\n",
    "# Now we can project data to the grid space\n",
    "data.togrid(mesh)\n",
    "# look at the new shape:\n",
    "print(data.phi.shape)"
   ]
  },
  {
   "cell_type": "code",
   "execution_count": 16,
   "id": "17dfb706",
   "metadata": {},
   "outputs": [
    {
     "name": "stderr",
     "output_type": "stream",
     "text": [
      "/tmp/ipykernel_8143/1788358851.py:5: RuntimeWarning: divide by zero encountered in log\n",
      "  plt.imshow(np.log(data.phi[34,:,:,0]).squeeze().T)\n"
     ]
    },
    {
     "data": {
      "text/plain": [
       "<matplotlib.image.AxesImage at 0x7c5d04468d50>"
      ]
     },
     "execution_count": 16,
     "metadata": {},
     "output_type": "execute_result"
    },
    {
     "data": {
      "image/png": "[encoded data removed]",
      "text/plain": [
       "<Figure size 640x480 with 1 Axes>"
      ]
     },
     "metadata": {},
     "output_type": "display_data"
    }
   ],
   "source": [
    "# Let's plot the fluence at source 1\n",
    "# The boundary voxels may look a little strange, because of the interpolation\n",
    "# This is because in the mesh, the boundary is not perfect flat. If the interpolation is at the average boundary,\n",
    "# this kind of ambiguity can happen\n",
    "plt.imshow(np.log(data.phi[34,:,:,0]).squeeze().T)"
   ]
  },
  {
   "cell_type": "code",
   "execution_count": 17,
   "id": "cc5f1da7",
   "metadata": {},
   "outputs": [
    {
     "name": "stdout",
     "output_type": "stream",
     "text": [
      "True\n",
      "True\n"
     ]
    }
   ],
   "source": [
    "# To find out if field .vol is calculated, we have a simple function, for both mesh and data\n",
    "print(mesh.isvol())\n",
    "print(mesh.isvol())"
   ]
  },
  {
   "cell_type": "code",
   "execution_count": 18,
   "id": "36cbc263",
   "metadata": {},
   "outputs": [
    {
     "name": "stdout",
     "output_type": "stream",
     "text": [
      "Warning: recalculating intmat\n",
      "Warning: data already in volumetric space. Recasted to the new volume.\n"
     ]
    },
    {
     "name": "stderr",
     "output_type": "stream",
     "text": [
      "/tmp/ipykernel_8143/528075209.py:9: RuntimeWarning: divide by zero encountered in log\n",
      "  plt.imshow(np.log(data.phi[23,:,:,0]).squeeze().T)\n"
     ]
    },
    {
     "data": {
      "text/plain": [
       "<matplotlib.image.AxesImage at 0x7c5cfc7a49d0>"
      ]
     },
     "execution_count": 18,
     "metadata": {},
     "output_type": "execute_result"
    },
    {
     "data": {
      "image/png": "[encoded data removed]",
      "text/plain": [
       "<Figure size 640x480 with 1 Axes>"
      ]
     },
     "metadata": {},
     "output_type": "display_data"
    }
   ],
   "source": [
    "# We can also change the volumetric space. \n",
    "# This will generate a warning reminding you that a projection has already been made\n",
    "xgrid = np.arange(0., 120., 3.)\n",
    "ygrid = np.arange(0., 120., 3.)\n",
    "zgrid = np.arange(0., 50., 3.)\n",
    "mesh.gen_intmat(xgrid, ygrid, zgrid)\n",
    "data.togrid(mesh)\n",
    "# plot the new result\n",
    "plt.imshow(np.log(data.phi[23,:,:,0]).squeeze().T)"
   ]
  },
  {
   "cell_type": "code",
   "execution_count": 19,
   "id": "4851fac1",
   "metadata": {},
   "outputs": [],
   "source": [
    "# Once we are happy with the mesh, we can save it to the classic ASCII format\n",
    "mesh.save_nirfast('demo1')"
   ]
  },
  {
   "cell_type": "code",
   "execution_count": null,
   "id": "3f330446",
   "metadata": {},
   "outputs": [],
   "source": []
  }
 ],
 "metadata": {
  "kernelspec": {
   "display_name": "Python 3 (ipykernel)",
   "language": "python",
   "name": "python3"
  },
  "language_info": {
   "codemirror_mode": {
    "name": "ipython",
    "version": 3
   },
   "file_extension": ".py",
   "mimetype": "text/x-python",
   "name": "python",
   "nbconvert_exporter": "python",
   "pygments_lexer": "ipython3",
   "version": "3.10.13"
  }
 },
 "nbformat": 4,
 "nbformat_minor": 5
}
