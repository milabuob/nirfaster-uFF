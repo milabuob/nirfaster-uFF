{
 "cells": [
  {
   "cell_type": "code",
   "execution_count": 1,
   "id": "19f2dc47",
   "metadata": {},
   "outputs": [],
   "source": [
    "import sys\n",
    "sys.path.insert(1, '../')\n",
    "import nirfasteruff as uff\n",
    "import visualize\n",
    "import scipy.io as sio\n",
    "import numpy as np"
   ]
  },
  {
   "cell_type": "code",
   "execution_count": 2,
   "id": "b01d3f9e",
   "metadata": {},
   "outputs": [],
   "source": [
    "# Let's load 3D volume. This particular one is a segmented ICBM152 head from NeuroDOT\n",
    "# Note that the data type must be uint8\n",
    "vol = sio.loadmat('headvol.mat')['mask']\n",
    "# Load the optode information as well. This is the example 24x28 pad in NeuroDOT\n",
    "tmp = sio.loadmat('optode_information.mat')\n",
    "link = tmp['link']\n",
    "srcpos = tmp['srcpos']\n",
    "detpos = tmp['detpos']"
   ]
  },
  {
   "cell_type": "code",
   "execution_count": 3,
   "id": "b992d774",
   "metadata": {},
   "outputs": [
    {
     "name": "stdout",
     "output_type": "stream",
     "text": [
      "[]\n"
     ]
    }
   ],
   "source": [
    "# We can now build a NIRFAST mesh using one single command\n",
    "# For the purpose of demonstration, lets use only a subset of optodes, and change that later\n",
    "# By default, they are not fixed\n",
    "source1 = uff.base.optode(srcpos[:5,:])\n",
    "detector1 = uff.base.optode(detpos[:8,:])\n",
    "# The optode objects are only half-finished at this point: there no int_func. But it's ok\n",
    "print(source1.int_func)\n",
    "# change the meshing parameter, in this case, I keep everything defaul except for turning smoothing off\n",
    "# offset is added so the mesh lines up correctly with the optodes\n",
    "params = uff.utils.MeshingParams(lloyd_smooth=0, offset=np.array([-87., -124.,  -76.4]))\n",
    "# optical property\n",
    "prop = np.array([[1, 0.004, 0.3, 1.33],\n",
    "                [2, 0.0208, 1.0107, 1.33],\n",
    "                [3, 0.0192, 0.6726, 1.33],\n",
    "                 [4, 0.0139, 0.84, 1.33],\n",
    "                 [5, 0.0190, 0.64, 1.33]])"
   ]
  },
  {
   "cell_type": "code",
   "execution_count": 4,
   "id": "55323f9f",
   "metadata": {},
   "outputs": [
    {
     "name": "stdout",
     "output_type": "stream",
     "text": [
      "Running CGAL mesher\n",
      "Meshing...\n",
      "\n",
      "Running local optimization...\n",
      "\n",
      "Converting to NIRFAST format\n",
      "[ -87.03782607 -118.55319707  -73.9763377 ]\n",
      "[88.03034001 83.06352392 98.658891  ]\n"
     ]
    }
   ],
   "source": [
    "# Let's make the mesh\n",
    "mesh = uff.base.stndmesh()\n",
    "mesh.from_volume(vol, param=params, prop=prop, src=source1, det=detector1, link=link)\n",
    "print(mesh.nodes.min(axis=0))\n",
    "print(mesh.nodes.max(axis=0))"
   ]
  },
  {
   "cell_type": "code",
   "execution_count": 5,
   "id": "e9c846f0",
   "metadata": {},
   "outputs": [
    {
     "name": "stdout",
     "output_type": "stream",
     "text": [
      "[1. 2. 3. 4. 5.]\n",
      "[[7.88370000e+04 8.34471832e-02 1.88645224e-01 1.76801008e-01\n",
      "  5.51106586e-01]\n",
      " [1.73166000e+05 2.47813796e-01 3.98892075e-01 3.32852832e-01\n",
      "  2.04412969e-02]\n",
      " [2.44576000e+05 4.03798348e-02 4.12142153e-01 2.91547856e-01\n",
      "  2.55930156e-01]\n",
      " [3.65471000e+05 7.98486314e-02 1.45295813e-02 4.89246399e-01\n",
      "  4.16375388e-01]\n",
      " [5.23418000e+05 1.15781030e-01 1.20744836e-01 4.42089391e-01\n",
      "  3.21384743e-01]]\n",
      "[1. 2. 3. 4. 5. 6. 7. 8.]\n",
      "[[ 2.95307000e+05  1.75992442e-01  2.84461675e-01  5.39545883e-01\n",
      "   1.67366121e-14]\n",
      " [ 2.13900000e+04  6.84951384e-01  2.34740791e-01  8.03078251e-02\n",
      "  -1.86031746e-14]\n",
      " [ 2.19371000e+05  7.45635089e-01  2.27472978e-02  2.31617613e-01\n",
      "   3.41948692e-14]\n",
      " [ 4.95657000e+05  6.99997486e-01  2.79491263e-01  2.05112514e-02\n",
      "  -5.19584376e-14]\n",
      " [ 4.97404000e+05  1.98569846e-01  1.08429612e-02  7.90587192e-01\n",
      "   5.85087534e-14]\n",
      " [ 1.11998000e+05  9.42023480e-02  4.24669658e-01 -3.18235022e-14\n",
      "   4.81127994e-01]\n",
      " [ 8.38160000e+04  5.83813285e-01  1.91061282e-01  2.25125433e-01\n",
      "  -2.15383267e-14]\n",
      " [ 5.24143000e+05 -4.44089210e-15  6.38956484e-01  1.21053966e-01\n",
      "   2.39989550e-01]]\n",
      "[-58.46312427 -93.13143175  -5.60315788]\n",
      "[-57.59868631 -92.54797031  -5.37044701]\n"
     ]
    }
   ],
   "source": [
    "# Now the missing optode information should be automatically filled. Have a look\n",
    "print(mesh.source.num)\n",
    "print(mesh.source.int_func)\n",
    "print(mesh.meas.num)\n",
    "print(mesh.meas.int_func)\n",
    "# The optodes locations are also automatically adjusted, if they are not fixed\n",
    "# Let's have a look\n",
    "print(source1.coord[0,:])\n",
    "print(mesh.source.coord[0,:])"
   ]
  },
  {
   "cell_type": "code",
   "execution_count": 6,
   "id": "4ef9e98e",
   "metadata": {},
   "outputs": [
    {
     "name": "stdout",
     "output_type": "stream",
     "text": [
      "touching sources\n",
      "touching detectors\n"
     ]
    }
   ],
   "source": [
    "# Note: there is actually a mismatch between link and source/meas. The software doesn't check it, so be careful\n",
    "# We can also change the optodes\n",
    "mesh.source = uff.base.optode(srcpos)\n",
    "mesh.meas = uff.base.optode(detpos)\n",
    "# These are, again, missing information. Let's make sure they sit in mesh correctly\n",
    "mesh.touch_optodes()"
   ]
  },
  {
   "cell_type": "code",
   "execution_count": 7,
   "id": "5090dcf8",
   "metadata": {},
   "outputs": [
    {
     "name": "stdout",
     "output_type": "stream",
     "text": [
      "[ 1.  2.  3.  4.  5.  6.  7.  8.  9. 10. 11. 12. 13. 14. 15. 16. 17. 18.\n",
      " 19. 20. 21. 22. 23. 24.]\n",
      "[[7.88370000e+04 8.34471832e-02 1.88645224e-01 1.76801008e-01\n",
      "  5.51106586e-01]\n",
      " [1.73166000e+05 2.47813796e-01 3.98892075e-01 3.32852832e-01\n",
      "  2.04412969e-02]\n",
      " [2.44576000e+05 4.03798348e-02 4.12142153e-01 2.91547856e-01\n",
      "  2.55930156e-01]\n",
      " [3.65471000e+05 7.98486314e-02 1.45295813e-02 4.89246399e-01\n",
      "  4.16375388e-01]\n",
      " [5.23418000e+05 1.15781030e-01 1.20744836e-01 4.42089391e-01\n",
      "  3.21384743e-01]\n",
      " [6.61940000e+04 4.16542532e-01 2.12861749e-02 1.24663337e-01\n",
      "  4.37507956e-01]\n",
      " [2.70545000e+05 3.31210646e-01 1.16382224e-01 2.22747261e-01\n",
      "  3.29659869e-01]\n",
      " [2.96079000e+05 2.48282948e-01 2.54923861e-01 3.85281493e-01\n",
      "  1.11511698e-01]\n",
      " [9.29250000e+04 2.21289081e-01 6.00795844e-02 6.74722104e-01\n",
      "  4.39092306e-02]\n",
      " [6.50335000e+05 1.22647621e-01 3.82982545e-01 7.15950061e-02\n",
      "  4.22774828e-01]\n",
      " [5.82000000e+03 1.49617637e-01 1.59889164e-01 6.31052307e-01\n",
      "  5.94408912e-02]\n",
      " [2.55260000e+05 1.04280800e-01 5.44483410e-01 9.01646259e-02\n",
      "  2.61071163e-01]\n",
      " [2.58189000e+05 2.02303548e-01 1.80895752e-01 8.02892578e-02\n",
      "  5.36511442e-01]\n",
      " [1.49528000e+05 2.74664570e-01 3.99136182e-01 3.20641131e-01\n",
      "  5.55811809e-03]\n",
      " [1.10470000e+04 3.94467854e-01 2.01365224e-01 8.86265892e-02\n",
      "  3.15540333e-01]\n",
      " [1.80498000e+05 3.47831083e-02 4.81492786e-01 2.75343143e-01\n",
      "  2.08380963e-01]\n",
      " [1.92662000e+05 3.93969190e-01 3.79031699e-01 1.73916772e-01\n",
      "  5.30823389e-02]\n",
      " [6.13810000e+05 4.28919608e-01 2.86149566e-01 2.21402607e-01\n",
      "  6.35282191e-02]\n",
      " [6.23864000e+05 5.18917922e-01 1.90400145e-01 2.29375791e-01\n",
      "  6.13061418e-02]\n",
      " [1.05459000e+05 9.81937435e-03 4.11464542e-01 3.43009128e-01\n",
      "  2.35706955e-01]\n",
      " [4.75042000e+05 4.50941839e-01 2.52832997e-02 5.35634299e-02\n",
      "  4.70211431e-01]\n",
      " [1.75016000e+05 4.30536651e-01 5.72989825e-02 8.28916481e-02\n",
      "  4.29272718e-01]\n",
      " [6.16085000e+05 1.26980833e-01 3.87732063e-01 1.11455051e-01\n",
      "  3.73832053e-01]\n",
      " [1.85770000e+04 3.57921570e-02 1.91408946e-01 2.18128437e-01\n",
      "  5.54670460e-01]]\n",
      "[ 1.  2.  3.  4.  5.  6.  7.  8.  9. 10. 11. 12. 13. 14. 15. 16. 17. 18.\n",
      " 19. 20. 21. 22. 23. 24. 25. 26. 27. 28.]\n",
      "[[ 2.95307000e+05  1.75992442e-01  2.84461675e-01  5.39545883e-01\n",
      "   1.67366121e-14]\n",
      " [ 2.13900000e+04  6.84951384e-01  2.34740791e-01  8.03078251e-02\n",
      "  -1.86031746e-14]\n",
      " [ 2.19371000e+05  7.45635089e-01  2.27472978e-02  2.31617613e-01\n",
      "   3.41948692e-14]\n",
      " [ 4.95657000e+05  6.99997486e-01  2.79491263e-01  2.05112514e-02\n",
      "  -5.19584376e-14]\n",
      " [ 4.97404000e+05  1.98569846e-01  1.08429612e-02  7.90587192e-01\n",
      "   5.85087534e-14]\n",
      " [ 1.11998000e+05  9.42023480e-02  4.24669658e-01 -3.18235022e-14\n",
      "   4.81127994e-01]\n",
      " [ 8.38160000e+04  5.83813285e-01  1.91061282e-01  2.25125433e-01\n",
      "  -2.15383267e-14]\n",
      " [ 5.24143000e+05 -4.44089210e-15  6.38956484e-01  1.21053966e-01\n",
      "   2.39989550e-01]\n",
      " [ 1.54722000e+05  3.08101304e-02  7.02538506e-02  8.98936019e-01\n",
      "  -5.44009282e-15]\n",
      " [ 6.26278000e+05  2.50498570e-01  8.50201829e-02  3.35842465e-14\n",
      "   6.64481248e-01]\n",
      " [ 2.18835000e+05  3.23225525e-01  8.88178420e-16  5.00925727e-02\n",
      "   6.26681903e-01]\n",
      " [ 3.75115000e+05  1.55653333e-01  2.32323076e-01  6.12023591e-01\n",
      "   1.33226763e-15]\n",
      " [ 4.17635000e+05  5.85201051e-02  3.57016852e-01  5.84463043e-01\n",
      "  -2.74433254e-15]\n",
      " [ 5.67685000e+05 -9.76996262e-15  5.59942825e-01 -1.10744747e-14\n",
      "   4.40057175e-01]\n",
      " [ 6.11947000e+05  1.37062087e-01  8.43464822e-01  1.44328993e-14\n",
      "   1.94730910e-02]\n",
      " [ 5.36149000e+05  4.91905389e-01  2.52461785e-01  2.55632826e-01\n",
      "  -1.82076576e-14]\n",
      " [ 3.89652000e+05  4.71301671e-01  4.80357601e-02 -2.00950367e-14\n",
      "   4.80662568e-01]\n",
      " [ 4.97029000e+05  2.16874443e-01 -2.74780199e-14  4.03259017e-01\n",
      "   3.79866540e-01]\n",
      " [ 6.28890000e+04  7.38423330e-01  1.29428130e-01 -5.32907052e-15\n",
      "   1.32148540e-01]\n",
      " [ 5.30281000e+05  3.30603970e-01  5.99072501e-01  7.03235296e-02\n",
      "   1.27897692e-13]\n",
      " [ 6.09629000e+05  4.58418636e-01  2.57022896e-01  1.77635684e-14\n",
      "   2.84558468e-01]\n",
      " [ 5.03372000e+05  3.38857713e-01  2.46544120e-01  7.38020756e-14\n",
      "   4.14598167e-01]\n",
      " [ 1.19800000e+03  6.14200019e-01 -1.39888101e-14  3.01066141e-01\n",
      "   8.47338397e-02]\n",
      " [ 7.75060000e+04  3.23796601e-01  1.45245699e-01  5.30957700e-01\n",
      "  -2.17603713e-14]\n",
      " [ 5.29086000e+05  5.03839077e-01  1.78889101e-01  1.05471187e-14\n",
      "   3.17271822e-01]\n",
      " [ 4.25134000e+05  5.53967023e-01  8.26216260e-02  3.63411351e-01\n",
      "  -3.32598532e-14]\n",
      " [ 5.04458000e+05  3.90940014e-01  4.08299598e-01  2.00760388e-01\n",
      "  -2.55351296e-15]\n",
      " [ 1.79788000e+05  7.58791435e-01  4.52768974e-02  1.95931668e-01\n",
      "  -3.90798505e-14]]\n"
     ]
    }
   ],
   "source": [
    "# Have a look\n",
    "print(mesh.source.num)\n",
    "print(mesh.source.int_func)\n",
    "print(mesh.meas.num)\n",
    "print(mesh.meas.int_func)"
   ]
  },
  {
   "cell_type": "code",
   "execution_count": 8,
   "id": "319b02ec",
   "metadata": {},
   "outputs": [],
   "source": [
    "# Let's make a regular grid, so we can map fluence to the grid space. \n",
    "# We only care about the back of the head\n",
    "xgrid = np.arange(-87., 88., 3.)\n",
    "ygrid = np.arange(-120., 40., 3.)\n",
    "zgrid = np.arange(-75., 100., 3.)\n",
    "\n",
    "# This can take a few seconds and heavily bottlenecked by CPU\n",
    "mesh.gen_intmat(xgrid, ygrid, zgrid)"
   ]
  },
  {
   "cell_type": "code",
   "execution_count": 9,
   "id": "241ceda0",
   "metadata": {},
   "outputs": [
    {
     "name": "stdout",
     "output_type": "stream",
     "text": [
      "Calculating the MASS matrix\n",
      "Solving the system\n",
      "(54, 59, 59, 24)\n"
     ]
    }
   ],
   "source": [
    "# Now let's generate some CW data\n",
    "data,_=mesh.femdata(0)\n",
    "# Data should be on grid now\n",
    "print(data.phi.shape)"
   ]
  },
  {
   "cell_type": "code",
   "execution_count": 10,
   "id": "72baffaf",
   "metadata": {},
   "outputs": [
    {
     "name": "stderr",
     "output_type": "stream",
     "text": [
      "/tmp/ipykernel_8395/501813850.py:5: RuntimeWarning: divide by zero encountered in log\n",
      "  plt.imshow(np.log(data.phi[:,32,:,12]).squeeze().T, origin='lower')\n"
     ]
    },
    {
     "data": {
      "text/plain": [
       "<matplotlib.image.AxesImage at 0x7859686e4d50>"
      ]
     },
     "execution_count": 10,
     "metadata": {},
     "output_type": "execute_result"
    },
    {
     "data": {
      "image/png": "[encoded data removed]",
      "text/plain": [
       "<Figure size 640x480 with 1 Axes>"
      ]
     },
     "metadata": {},
     "output_type": "display_data"
    }
   ],
   "source": [
    "# Let's take a look at the fluence of source 13\n",
    "import matplotlib.pyplot as plt\n",
    "# if use this hack if plt crashes\n",
    "# os.environ['KMP_DUPLICATE_LIB_OK'] = 'True'\n",
    "plt.imshow(np.log(data.phi[:,32,:,12]).squeeze().T, origin='lower')"
   ]
  },
  {
   "cell_type": "code",
   "execution_count": 11,
   "id": "efb37872",
   "metadata": {},
   "outputs": [],
   "source": [
    "# You may also wish to add an anomaly to the mesh e.g. when simulating a function activation\n",
    "# First make a copy of the mesh. Note that python by default uses shallow copy, \n",
    "# simplistically setting mesh2=mesh1 can cause unexpected artifacts\n",
    "mesh2 = uff.base.stndmesh()\n",
    "mesh2.from_copy(mesh)\n",
    "# Let add a blob in the visual cortex\n",
    "import scipy\n",
    "idx = np.nonzero(scipy.linalg.norm(mesh2.nodes - np.array([9.,-90., -5.]), axis=1) < 15.)\n",
    "# In format [mua (mm-1) musp (mm-1) ri]; can be NumPy array or list\n",
    "mesh2.change_prop(idx, [0.03, 1.2, 1.33])"
   ]
  },
  {
   "cell_type": "code",
   "execution_count": 12,
   "id": "3d4eadb5",
   "metadata": {},
   "outputs": [
    {
     "name": "stdout",
     "output_type": "stream",
     "text": [
      "Calculating the MASS matrix\n",
      "Solving the system\n"
     ]
    },
    {
     "name": "stderr",
     "output_type": "stream",
     "text": [
      "/tmp/ipykernel_8395/3360479058.py:4: RuntimeWarning: divide by zero encountered in log\n",
      "  plt.imshow(np.log(data2.phi[:,32,:,12]).squeeze().T, origin='lower')\n"
     ]
    },
    {
     "data": {
      "text/plain": [
       "<matplotlib.image.AxesImage at 0x785968715610>"
      ]
     },
     "execution_count": 12,
     "metadata": {},
     "output_type": "execute_result"
    },
    {
     "data": {
      "image/png": "[encoded data removed]",
      "text/plain": [
       "<Figure size 640x480 with 1 Axes>"
      ]
     },
     "metadata": {},
     "output_type": "display_data"
    }
   ],
   "source": [
    "# Calculate fluence on the new mesh with anomaly\n",
    "data2,_ = mesh2.femdata(0)\n",
    "# Have a look at the same slice\n",
    "plt.imshow(np.log(data2.phi[:,32,:,12]).squeeze().T, origin='lower')"
   ]
  },
  {
   "cell_type": "code",
   "execution_count": 13,
   "id": "9ad6fc89",
   "metadata": {},
   "outputs": [
    {
     "name": "stderr",
     "output_type": "stream",
     "text": [
      "/tmp/ipykernel_8395/3714853821.py:2: RuntimeWarning: divide by zero encountered in log\n",
      "  plt.imshow(np.log(np.abs(data2.phi[:,32,:,12].squeeze().T - data.phi[:,32,:,12].squeeze().T)), origin='lower')\n"
     ]
    },
    {
     "data": {
      "text/plain": [
       "<matplotlib.image.AxesImage at 0x785960be6890>"
      ]
     },
     "execution_count": 13,
     "metadata": {},
     "output_type": "execute_result"
    },
    {
     "data": {
      "image/png": "[encoded data removed]",
      "text/plain": [
       "<Figure size 640x480 with 1 Axes>"
      ]
     },
     "metadata": {},
     "output_type": "display_data"
    }
   ],
   "source": [
    "# Or better, view the difference (log absolute value)\n",
    "plt.imshow(np.log(np.abs(data2.phi[:,32,:,12].squeeze().T - data.phi[:,32,:,12].squeeze().T)), origin='lower')"
   ]
  },
  {
   "cell_type": "code",
   "execution_count": 11,
   "id": "17af8f45",
   "metadata": {},
   "outputs": [],
   "source": [
    "# That's it! Let's save the mesh in ASCII format, so we can repeat the same procedure in Matlab and compare\n",
    "mesh.save_nirfast('fullhead_example')\n",
    "# Maybe save the fluence as well\n",
    "sio.savemat('phi_head.mat', {'phi':data.phi})"
   ]
  },
  {
   "cell_type": "code",
   "execution_count": null,
   "id": "c26c3e84",
   "metadata": {},
   "outputs": [],
   "source": []
  }
 ],
 "metadata": {
  "kernelspec": {
   "display_name": "Python 3 (ipykernel)",
   "language": "python",
   "name": "python3"
  },
  "language_info": {
   "codemirror_mode": {
    "name": "ipython",
    "version": 3
   },
   "file_extension": ".py",
   "mimetype": "text/x-python",
   "name": "python",
   "nbconvert_exporter": "python",
   "pygments_lexer": "ipython3",
   "version": "3.11.5"
  }
 },
 "nbformat": 4,
 "nbformat_minor": 5
}
